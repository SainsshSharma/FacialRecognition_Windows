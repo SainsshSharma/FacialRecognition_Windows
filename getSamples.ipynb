{
 "cells": [
  {
   "cell_type": "code",
   "execution_count": 1,
   "metadata": {},
   "outputs": [],
   "source": [
    "import cv2"
   ]
  },
  {
   "cell_type": "code",
   "execution_count": 21,
   "metadata": {},
   "outputs": [
    {
     "name": "stderr",
     "output_type": "stream",
     "text": [
      "<>:7: SyntaxWarning: \"is\" with a literal. Did you mean \"==\"?\n",
      "<>:7: SyntaxWarning: \"is\" with a literal. Did you mean \"==\"?\n",
      "C:\\Users\\acer\\AppData\\Local\\Temp\\ipykernel_17004\\217807131.py:7: SyntaxWarning: \"is\" with a literal. Did you mean \"==\"?\n",
      "  if faces is ():\n"
     ]
    },
    {
     "name": "stdout",
     "output_type": "stream",
     "text": [
      "Collection samples is completed\n"
     ]
    }
   ],
   "source": [
    "def genrate_dataset():\n",
    "    face_classifier=cv2.CascadeClassifier(\"haarcascade_frontalface_alt.xml\");\n",
    "    def face_cropper(img):\n",
    "        gray=cv2.cvtColor(img,cv2.COLOR_BGR2GRAY)\n",
    "        faces=face_classifier.detectMultiScale(gray,1.3,5)\n",
    "\n",
    "        if faces is ():\n",
    "            return None\n",
    "        for (x,y,w,h) in faces:\n",
    "            cropped_Face=img[y:y+h,x:x+w]\n",
    "        return cropped_Face\n",
    "    cap=cv2.VideoCapture(0)\n",
    "    img_id=61\n",
    "\n",
    "    while True:\n",
    "        ret,Fram=cap.read()\n",
    "        if face_cropper(Fram) is not None:\n",
    "            img_id+=1\n",
    "            face=cv2.resize(face_cropper(Fram),(200,200))\n",
    "            face=cv2.cvtColor(face,cv2.COLOR_BGR2GRAY)\n",
    "            file_name_path=\"data/\"+\"first.\"+str(img_id)+\".jpg\"\n",
    "            #file_name_path=\"Visulaization/\"+str(img_id)+'.jpg'\n",
    "            cv2.imwrite(file_name_path,face)\n",
    "            cv2.putText(face,str(img_id),(50,50),cv2.FONT_HERSHEY_COMPLEX,1,(0,255,0),2)\n",
    "\n",
    "            cv2.imshow(\"CroppedFace\",face)\n",
    "            if cv2.waitKey(1)==13 or int(img_id)==1000:\n",
    "                break\n",
    "    \n",
    "    cap.release()\n",
    "    cv2.destroyAllWindows()\n",
    "    print(\"Collection samples is completed\")\n",
    "\n",
    "#genrate_dataset()\n",
    "\n"
   ]
  },
  {
   "cell_type": "code",
   "execution_count": 22,
   "metadata": {},
   "outputs": [
    {
     "name": "stderr",
     "output_type": "stream",
     "text": [
      "<>:7: SyntaxWarning: \"is\" with a literal. Did you mean \"==\"?\n",
      "<>:7: SyntaxWarning: \"is\" with a literal. Did you mean \"==\"?\n",
      "C:\\Users\\acer\\AppData\\Local\\Temp\\ipykernel_17004\\2411840541.py:7: SyntaxWarning: \"is\" with a literal. Did you mean \"==\"?\n",
      "  if faces is ():\n"
     ]
    }
   ],
   "source": [
    "def capturePhoto():\n",
    "    face_classifier=cv2.CascadeClassifier(\"haarcascade_frontalface_alt.xml\");\n",
    "    def face_cropper(img):\n",
    "        gray=cv2.cvtColor(img,cv2.COLOR_BGR2GRAY)\n",
    "        faces=face_classifier.detectMultiScale(gray,1.3,5)\n",
    "\n",
    "        if faces is ():\n",
    "            return None\n",
    "        for (x,y,w,h) in faces:\n",
    "            cropped_Face=img[y:y+h,x:x+w]\n",
    "        return cropped_Face\n",
    "    cap=cv2.VideoCapture(0)\n",
    "    img_id=1\n",
    "\n",
    "    while True:\n",
    "        ret,Fram=cap.read()\n",
    "        if face_cropper(Fram) is not None:\n",
    "            img_id+=1\n",
    "            face=cv2.resize(face_cropper(Fram),(200,200))\n",
    "            face=cv2.cvtColor(face,cv2.COLOR_BGR2GRAY)\n",
    "            #file_name_path=\"data/\"+\"first.\"+str(img_id)+\".jpg\"\n",
    "            file_name_path=\"Visulaization/\"+str(img_id)+'.jpg'\n",
    "            cv2.imwrite(file_name_path,face)\n",
    "            cv2.putText(face,str(img_id),(50,50),cv2.FONT_HERSHEY_COMPLEX,1,(0,255,0),2)\n",
    "\n",
    "            cv2.imshow(\"CroppedFace\",face)\n",
    "            if cv2.waitKey(1)==13 or int(img_id)==2:\n",
    "                break\n",
    "    \n",
    "    cap.release()\n",
    "    cv2.destroyAllWindows()\n",
    "    print(\"Collection samples is completed\")\n",
    "#capturePhoto()  "
   ]
  },
  {
   "cell_type": "code",
   "execution_count": 6,
   "metadata": {},
   "outputs": [],
   "source": [
    "##CREATE LABEL"
   ]
  },
  {
   "cell_type": "code",
   "execution_count": 23,
   "metadata": {},
   "outputs": [],
   "source": [
    "import numpy as np\n",
    "def my_label(image_name):\n",
    "    name=image_name.split('.')[-3]\n",
    "\n",
    "    if name==\"first\":\n",
    "        return np.array([1,0,0])\n",
    "    elif name==\"second\":\n",
    "        return np.array([0,1,0])\n",
    "    elif name==\"third\":\n",
    "        return np.array([0,0,1])"
   ]
  },
  {
   "cell_type": "code",
   "execution_count": 24,
   "metadata": {},
   "outputs": [],
   "source": [
    "import os \n",
    "from random import shuffle\n",
    "from tqdm import tqdm"
   ]
  },
  {
   "cell_type": "code",
   "execution_count": 25,
   "metadata": {},
   "outputs": [],
   "source": [
    "def my_data():\n",
    "    data=[]\n",
    "\n",
    "    for img in tqdm(os.listdir(\"data\")):\n",
    "        path=os.path.join(\"data\",img)\n",
    "        img_data=cv2.imread(path,cv2.IMREAD_GRAYSCALE)\n",
    "        img_data=cv2.resize(img_data,(50,50))\n",
    "        data.append([np.array(img_data),my_label(img)])\n",
    "    shuffle(data)\n",
    "    return data"
   ]
  },
  {
   "cell_type": "code",
   "execution_count": 26,
   "metadata": {},
   "outputs": [
    {
     "name": "stderr",
     "output_type": "stream",
     "text": [
      "100%|██████████| 2857/2857 [00:13<00:00, 218.51it/s]\n"
     ]
    }
   ],
   "source": [
    "data=my_data()"
   ]
  },
  {
   "cell_type": "code",
   "execution_count": 27,
   "metadata": {},
   "outputs": [
    {
     "name": "stdout",
     "output_type": "stream",
     "text": [
      "(700, 50, 50, 1)\n",
      "(2157, 50, 50, 1)\n"
     ]
    }
   ],
   "source": [
    "train=data[:700]\n",
    "test=data[700:]\n",
    "X_train=np.array([i[0] for i in train]).reshape(-1,50,50,1)\n",
    "print(X_train.shape)\n",
    "\n",
    "Y_train=[i[1] for i in train]\n",
    "X_test=np.array([i[0] for i in test]).reshape(-1,50,50,1)\n",
    "\n",
    "print(X_test.shape)\n",
    "Y_test=[i[1] for i in train]"
   ]
  },
  {
   "cell_type": "code",
   "execution_count": 28,
   "metadata": {},
   "outputs": [],
   "source": [
    "import tensorflow as tf\n",
    "import tflearn \n",
    "from tflearn.layers.conv import conv_2d, max_pool_2d\n",
    "from tflearn.layers.core import input_data,dropout,fully_connected\n",
    "from tflearn.layers.estimator import regression"
   ]
  },
  {
   "cell_type": "code",
   "execution_count": 29,
   "metadata": {},
   "outputs": [
    {
     "name": "stdout",
     "output_type": "stream",
     "text": [
      "Training Step: 131  | total loss: \u001b[1m\u001b[32m0.02925\u001b[0m\u001b[0m | time: 1.814s\n",
      "\u001b[2K\r| Adam | epoch: 012 | loss: 0.02925 - acc: 0.9973 -- iter: 640/700\n"
     ]
    },
    {
     "name": "stderr",
     "output_type": "stream",
     "text": [
      "Exception in thread Thread-79:\n",
      "Traceback (most recent call last):\n",
      "  File \"c:\\Users\\acer\\AppData\\Local\\Programs\\Python\\Python39\\lib\\threading.py\", line 954, in _bootstrap_inner\n",
      "    self.run()\n",
      "  File \"c:\\Users\\acer\\AppData\\Local\\Programs\\Python\\Python39\\lib\\threading.py\", line 892, in run\n",
      "    self._target(*self._args, **self._kwargs)\n",
      "  File \"c:\\Users\\acer\\AppData\\Local\\Programs\\Python\\Python39\\lib\\site-packages\\tflearn\\data_flow.py\", line 187, in fill_feed_dict_queue\n",
      "    data = self.retrieve_data(batch_ids)\n",
      "  File \"c:\\Users\\acer\\AppData\\Local\\Programs\\Python\\Python39\\lib\\site-packages\\tflearn\\data_flow.py\", line 222, in retrieve_data\n",
      "    utils.slice_array(self.feed_dict[key], batch_ids)\n",
      "  File \"c:\\Users\\acer\\AppData\\Local\\Programs\\Python\\Python39\\lib\\site-packages\\tflearn\\utils.py\", line 204, in slice_array\n",
      "    return X[start]\n",
      "IndexError: index 700 is out of bounds for axis 0 with size 700\n"
     ]
    },
    {
     "name": "stdout",
     "output_type": "stream",
     "text": [
      "Training Step: 132  | total loss: \u001b[1m\u001b[32m0.02634\u001b[0m\u001b[0m | time: 2.947s\n",
      "| Adam | epoch: 012 | loss: 0.02634 - acc: 0.9976 | val_loss: 2.56048 - val_acc: 0.0997 -- iter: 700/700\n",
      "--\n"
     ]
    }
   ],
   "source": [
    "tf.compat.v1.reset_default_graph()\n",
    "convnet = input_data(shape=[50,50,1])\n",
    "convnet = conv_2d(convnet, 32, 5, activation='relu')\n",
    "# 32 filters and stride=5 so that the filter will move 5 pixel or unit at a time\n",
    "convnet = max_pool_2d(convnet, 5)\n",
    "convnet = conv_2d(convnet, 64, 5, activation='relu')\n",
    "convnet = max_pool_2d(convnet, 5)\n",
    "convnet = conv_2d(convnet, 128, 5, activation='relu')\n",
    "convnet = max_pool_2d(convnet, 5)\n",
    "convnet = conv_2d(convnet, 64, 5, activation='relu')\n",
    "convnet = max_pool_2d(convnet, 5)\n",
    "convnet = conv_2d(convnet, 32, 5, activation='relu')\n",
    "convnet = max_pool_2d(convnet, 5)\n",
    "\n",
    "convnet = fully_connected(convnet, 1024, activation='relu')\n",
    "convnet = dropout(convnet, 0.8)\n",
    "convnet = fully_connected(convnet, 3, activation='softmax') #2 for two dataset\n",
    "convnet = regression(convnet, optimizer='adam', learning_rate = 0.001, loss='categorical_crossentropy')\n",
    "model = tflearn.DNN(convnet, tensorboard_verbose=1)\n",
    "model.fit(X_train, Y_train, n_epoch=12, validation_set=(X_test, Y_test), show_metric = True, run_id=\"FRS\" )\n"
   ]
  },
  {
   "cell_type": "code",
   "execution_count": 30,
   "metadata": {},
   "outputs": [],
   "source": [
    "def data_for_visulization():\n",
    "    Vdata=[]\n",
    "    for img in tqdm(os.listdir(\"Visulaization\")):\n",
    "        path=os.path.join(\"Visulaization\",img)\n",
    "        img_num=img.split('.')[0]\n",
    "        img_data=cv2.imread(path,cv2.IMREAD_GRAYSCALE)\n",
    "        img_data=cv2.resize(img_data,(50,50))\n",
    "        Vdata.append([np.array(img_data),img_num])\n",
    "    shuffle(Vdata)\n",
    "    return Vdata"
   ]
  },
  {
   "cell_type": "code",
   "execution_count": 31,
   "metadata": {},
   "outputs": [
    {
     "name": "stderr",
     "output_type": "stream",
     "text": [
      "100%|██████████| 1/1 [00:00<?, ?it/s]\n"
     ]
    }
   ],
   "source": [
    "Vdata=data_for_visulization()"
   ]
  },
  {
   "cell_type": "code",
   "execution_count": 32,
   "metadata": {},
   "outputs": [
    {
     "data": {
      "image/png": "[encoded data removed]",
      "text/plain": [
       "<Figure size 2000x2000 with 1 Axes>"
      ]
     },
     "metadata": {},
     "output_type": "display_data"
    }
   ],
   "source": [
    "import matplotlib.pyplot as plt # pip install matplotlib\n",
    "import ctypes\n",
    "\n",
    "fig = plt.figure(figsize=(20,20))\n",
    "for num, data in enumerate(Vdata[:20]):\n",
    "    img_data = data[0]\n",
    "    y = fig.add_subplot(5,5, num+1)\n",
    "    image = img_data\n",
    "    data = img_data.reshape(50,50,1)\n",
    "    model_out = model.predict([data])[0]\n",
    "    value=False\n",
    "    if np.argmax(model_out) == 0:\n",
    "        my_label = 'first'\n",
    "        value=True\n",
    "    elif np.argmax(model_out) == 1:\n",
    "        my_label = 'second'\n",
    "        value=False\n",
    "    elif np.argmax(model_out) == 2:\n",
    "        my_label = 'third'\n",
    "        value=False\n",
    "    else:\n",
    "        my_label='none'\n",
    "        value=False\n",
    "    y.imshow(image, cmap='gray')\n",
    "    plt.title(my_label)\n",
    "    \n",
    "    y.axes.get_xaxis().set_visible(False)\n",
    "    y.axes.get_yaxis().set_visible(False)\n",
    "plt.show()\n",
    "\n",
    "if(not value):\n",
    "    ctypes.windll.user32.LockWorkStation()\n"
   ]
  },
  {
   "cell_type": "code",
   "execution_count": 33,
   "metadata": {},
   "outputs": [],
   "source": [
    "import tkinter as tk\n",
    "from tkinter import ttk\n"
   ]
  },
  {
   "cell_type": "code",
   "execution_count": 34,
   "metadata": {},
   "outputs": [],
   "source": [
    "root=tk.Tk()\n",
    "root.geometry('400x250')\n",
    "userString=tk.StringVar(root)\n",
    "passString=tk.StringVar(root)"
   ]
  },
  {
   "cell_type": "code",
   "execution_count": 35,
   "metadata": {},
   "outputs": [],
   "source": [
    "def Login():\n",
    "    label_1=tk.Label(root,text=\"Username\").place(x = 60, y =50)\n",
    "    inpUser=tk.Entry(root,width=30,textvariable=userString).place(x = 130, y = 50)\n",
    "\n",
    "    label_2=tk.Label(root,text=\"Password\").place(x = 60, y = 90)\n",
    "    inpPass=tk.Entry(root,width=30,textvariable=passString,show=\"*\").place(x = 130, y = 90)\n",
    "\n",
    "    Button=tk.Button(root,text=\"Submit\",command=getValues).place(x = 170, y = 120)"
   ]
  },
  {
   "cell_type": "code",
   "execution_count": 36,
   "metadata": {},
   "outputs": [],
   "source": [
    "def getValues():\n",
    "    userVal=userString.get()\n",
    "    passVal=passString.get()\n",
    "\n",
    "    if(userVal.rstrip()=='hello' and passVal.rstrip()=='world'):\n",
    "        print(\"Login Sucess\")\n",
    "\n",
    "        for i in root.winfo_children():\n",
    "            i.destroy()\n",
    "    \n",
    "        main_menu()\n",
    "        \n",
    "    else:\n",
    "        print(\"Failed\")\n"
   ]
  },
  {
   "cell_type": "code",
   "execution_count": 37,
   "metadata": {},
   "outputs": [],
   "source": [
    "import time\n",
    "import matplotlib.pyplot as plt # pip install matplotlib\n",
    "import ctypes\n",
    "import sys\n",
    "\n",
    "clicked = tk.StringVar()\n",
    "button_var = tk.StringVar()\n",
    "button_var.set(\"Disable\")\n",
    "def disable_func():\n",
    "    if (str(button_var.get()) == 'Disable'):\n",
    "        button_var.set(\"Enable\")\n",
    "    elif (str(button_var.get()) == 'Enable'):\n",
    "        button_var.set(\"Disable\")\n",
    "\n",
    "def genrate_dataset():\n",
    "    pass\n",
    "\n",
    "def getvall():\n",
    "    value=int(str(clicked.get()).split(' ')[0])\n",
    "    print(value)\n",
    "    while True:\n",
    "        time.sleep(value+5)\n",
    "        capturePhoto()\n",
    "        Vdata=data_for_visulization()\n",
    "\n",
    "\n",
    "        fig = plt.figure(figsize=(20,20))\n",
    "        for num, data in enumerate(Vdata[:20]):\n",
    "            img_data = data[0]\n",
    "            y = fig.add_subplot(5,5, num+1)\n",
    "            image = img_data\n",
    "            data = img_data.reshape(50,50,1)\n",
    "            model_out = model.predict([data])[0]\n",
    "            value=False\n",
    "            if np.argmax(model_out) == 0:\n",
    "                my_label = 'first'\n",
    "                value=True\n",
    "            elif np.argmax(model_out) == 1:\n",
    "                my_label = 'second'\n",
    "                value=False\n",
    "            elif np.argmax(model_out) == 2:\n",
    "                my_label = 'third'\n",
    "                value=False\n",
    "            else:\n",
    "                my_label='none'\n",
    "                value=False\n",
    "            y.imshow(image, cmap='gray')\n",
    "            plt.title(my_label)\n",
    "            \n",
    "            y.axes.get_xaxis().set_visible(False)\n",
    "            y.axes.get_yaxis().set_visible(False)\n",
    "        plt.show()\n",
    "\n",
    "        if(not value):\n",
    "            ctypes.windll.user32.LockWorkStation()\n",
    "            root.destroy()\n",
    "            sys.exit()\n",
    "        \n",
    "\n",
    "\n",
    "def main_menu():    \n",
    "    # clicked.set('5 mins')\n",
    "    \n",
    "    label_1=tk.Label(root,text=\"Interval\", anchor=tk.W).place(x = 20, y =20)\n",
    "    options = ttk.Combobox(root, textvariable = clicked)\n",
    "    options['values'] = tuple(f'{i} seconds' for i in range(5, 30 + 1, 5))\n",
    "    options['state'] = 'readonly'\n",
    "    options.place(x = 80, y = 19)\n",
    "\n",
    "    button=tk.Button(root,text=\"Select\",command=getvall, width=10).place(x = 80, y = 45)\n",
    "\n",
    "\n",
    "    label_2=tk.Label(root,text=\"Add user\", anchor=tk.W).place(x = 20, y = 90)\n",
    "    button=tk.Button(root,text=\"Add\",command=genrate_dataset, width=10).place(x = 80, y = 90)\n",
    "\n",
    "    disable=tk.Label(root,text=\"Disable IR\", anchor=tk.W).place(x = 20, y = 130)\n",
    "    disable_button=tk.Button(root,command=disable_func, textvariable=button_var, width=10).place(x = 80, y = 130)\n"
   ]
  },
  {
   "cell_type": "code",
   "execution_count": 38,
   "metadata": {},
   "outputs": [],
   "source": [
    "Login()"
   ]
  },
  {
   "cell_type": "code",
   "execution_count": 39,
   "metadata": {},
   "outputs": [
    {
     "name": "stdout",
     "output_type": "stream",
     "text": [
      "Login Sucess\n",
      "5\n",
      "Collection samples is completed\n"
     ]
    },
    {
     "name": "stderr",
     "output_type": "stream",
     "text": [
      "100%|██████████| 1/1 [00:00<00:00, 124.90it/s]\n"
     ]
    },
    {
     "data": {
      "image/png": "[encoded data removed]",
      "text/plain": [
       "<Figure size 2000x2000 with 1 Axes>"
      ]
     },
     "metadata": {},
     "output_type": "display_data"
    },
    {
     "name": "stdout",
     "output_type": "stream",
     "text": [
      "Collection samples is completed\n"
     ]
    },
    {
     "name": "stderr",
     "output_type": "stream",
     "text": [
      "100%|██████████| 1/1 [00:00<00:00, 124.63it/s]\n"
     ]
    },
    {
     "data": {
      "image/png": "[encoded data removed]",
      "text/plain": [
       "<Figure size 2000x2000 with 1 Axes>"
      ]
     },
     "metadata": {},
     "output_type": "display_data"
    },
    {
     "name": "stdout",
     "output_type": "stream",
     "text": [
      "Collection samples is completed\n"
     ]
    },
    {
     "name": "stderr",
     "output_type": "stream",
     "text": [
      "100%|██████████| 1/1 [00:00<00:00, 125.04it/s]\n"
     ]
    },
    {
     "data": {
      "image/png": "[encoded data removed]",
      "text/plain": [
       "<Figure size 2000x2000 with 1 Axes>"
      ]
     },
     "metadata": {},
     "output_type": "display_data"
    },
    {
     "ename": "SystemExit",
     "evalue": "",
     "output_type": "error",
     "traceback": [
      "An exception has occurred, use %tb to see the full traceback.\n",
      "\u001b[1;31mSystemExit\u001b[0m\n"
     ]
    }
   ],
   "source": [
    "root.mainloop()"
   ]
  },
  {
   "cell_type": "code",
   "execution_count": null,
   "metadata": {},
   "outputs": [],
   "source": []
  }
 ],
 "metadata": {
  "kernelspec": {
   "display_name": "Python 3",
   "language": "python",
   "name": "python3"
  },
  "language_info": {
   "codemirror_mode": {
    "name": "ipython",
    "version": 3
   },
   "file_extension": ".py",
   "mimetype": "text/x-python",
   "name": "python",
   "nbconvert_exporter": "python",
   "pygments_lexer": "ipython3",
   "version": "3.9.2"
  },
  "orig_nbformat": 4,
  "vscode": {
   "interpreter": {
    "hash": "8f5816e6188795d1cc8afa4306b69c5e3a103f064a75e820fe776234e4cf83e8"
   }
  }
 },
 "nbformat": 4,
 "nbformat_minor": 2
}
